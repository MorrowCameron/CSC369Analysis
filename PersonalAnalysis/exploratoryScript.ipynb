{
 "cells": [
  {
   "cell_type": "markdown",
   "metadata": {},
   "source": [
    "# An Exploration of the Data gotten from Scraping novelupdates.com"
   ]
  },
  {
   "cell_type": "markdown",
   "metadata": {},
   "source": [
    "## Columns needed to find which country has the most popular novels on average\n",
    "- Title\n",
    "- Rank\n",
    "- StarRating\n",
    "- NumberOfRatings\n",
    "- NumberOfReaders\n",
    "- CountryOfOrigin\n",
    "\n",
    "## Columns needed to find out why\n",
    "- NumberOfChapters\n",
    "- ReleaseSchedule\n",
    "- LastChapterDateOfPublication\n",
    "- Genres\n",
    "- CountryOfOrigin\n",
    "- Genres in comparison to ratings\n",
    "- Genres in comparison to Country of Origin"
   ]
  },
  {
   "cell_type": "code",
   "execution_count": 65,
   "metadata": {},
   "outputs": [],
   "source": [
    "import duckdb"
   ]
  },
  {
   "cell_type": "code",
   "execution_count": 66,
   "metadata": {},
   "outputs": [
    {
     "data": {
      "text/plain": [
       "<duckdb.duckdb.DuckDBPyConnection at 0x1182250f0>"
      ]
     },
     "execution_count": 66,
     "metadata": {},
     "output_type": "execute_result"
    }
   ],
   "source": [
    "con = duckdb.connect()\n",
    "con.execute(\"DROP TABLE IF EXISTS novel_table\")\n",
    "con.execute(\"DROP TABLE IF EXISTS country_novel_table\")\n",
    "table = f\"\"\"\n",
    "    CREATE TABLE novel_table AS\n",
    "    SELECT * FROM 'webnovel_2025_analysis.csv'\n",
    "\"\"\"\n",
    "con.execute(table)"
   ]
  },
  {
   "cell_type": "markdown",
   "metadata": {},
   "source": [
    "Test by grabbing top ten"
   ]
  },
  {
   "cell_type": "code",
   "execution_count": 67,
   "metadata": {},
   "outputs": [
    {
     "name": "stdout",
     "output_type": "stream",
     "text": [
      "  Rank                                              Title CountryOfOrigin  \\\n",
      "0   #1                        T*ash of the Count’s Family              KR   \n",
      "1   #2      The Death Mage Who Doesn’t Want a Fourth Time              JP   \n",
      "2   #3                        Everyone Else is a Returnee              KR   \n",
      "3   #4                  Tsuki ga Michibiku Isekai Douchuu              JP   \n",
      "4   #5                             Kumo Desu ga, Nani ka?              JP   \n",
      "5   #6                Tensei Shitara Slime Datta Ken (WN)              JP   \n",
      "6   #7              My Death Flags Show No Sign of Ending              JP   \n",
      "7   #8                           The Founder of Diabolism              CN   \n",
      "8   #9              The Scum Villain’s Self-Saving System              CN   \n",
      "9  #10  Death March kara Hajimaru Isekai Kyusoukyoku (WN)              JP   \n",
      "\n",
      "   StarRating NumberOfChapters  ReleaseFrequency(Days)  NumberOfReaders  \\\n",
      "0         4.5    1101 Chapters                     3.7            40397   \n",
      "1         4.1     488 Chapters                     7.7            30350   \n",
      "2         4.3       0 Chapters                  1488.0            30296   \n",
      "3         3.8     530 Chapters                    67.6            28927   \n",
      "4         4.4     764 Chapters                    98.7            27831   \n",
      "5         4.2     443 Chapters                   126.7            27203   \n",
      "6         4.5     137 Chapters                   109.5            27122   \n",
      "7         4.7      26 Chapters                     7.5            27017   \n",
      "8         4.3       3 Chapters                   463.7            25594   \n",
      "9         3.9     745 Chapters                    33.9            25573   \n",
      "\n",
      "   NumberOfReviews LastChapterDateOfPublication  \\\n",
      "0              604                   02-25-2025   \n",
      "1              349                   02-12-2025   \n",
      "2              381                   02-01-2021   \n",
      "3              253                   02-06-2024   \n",
      "4              215                   01-30-2022   \n",
      "5               97                   08-21-2020   \n",
      "6              229                   09-23-2024   \n",
      "7              556                   08-11-2019   \n",
      "8              488                   06-25-2022   \n",
      "9              239                   02-23-2025   \n",
      "\n",
      "                                              Genres  \n",
      "0  (Action Adventure Fantasy Martial Arts Seinen ...  \n",
      "1  (Action Adventure Comedy Fantasy Harem Mature ...  \n",
      "2  (Completed Action Adventure Comedy Fantasy Har...  \n",
      "3  (Action Adventure Comedy Drama Fantasy Harem S...  \n",
      "4  (Completed Action Adventure Comedy Drama Fanta...  \n",
      "5  (Completed Action Adventure Comedy Fantasy Mar...  \n",
      "6  (Action Adventure Drama Fantasy Mystery Romanc...  \n",
      "7  (Completed Adventure Drama Mystery Romance Sup...  \n",
      "8  (Completed Action Adult Comedy Drama Mature Ro...  \n",
      "9  (Action Adventure Comedy Fantasy Harem Shounen...  \n"
     ]
    }
   ],
   "source": [
    "print(con.execute(\"SELECT * FROM novel_table LIMIT 10\").fetchdf())"
   ]
  },
  {
   "cell_type": "markdown",
   "metadata": {},
   "source": [
    "Check if any titles don't have a country of origin"
   ]
  },
  {
   "cell_type": "code",
   "execution_count": 68,
   "metadata": {},
   "outputs": [
    {
     "name": "stdout",
     "output_type": "stream",
     "text": [
      "Empty DataFrame\n",
      "Columns: [Rank, Title, CountryOfOrigin]\n",
      "Index: []\n"
     ]
    }
   ],
   "source": [
    "print(con.execute(\"SELECT Rank, Title, CountryOfOrigin from novel_table WHERE CountryOfOrigin IS NULL\").fetchdf())"
   ]
  },
  {
   "cell_type": "markdown",
   "metadata": {},
   "source": [
    "Check if any Country of Origin is outside of China, Korea, or Japan"
   ]
  },
  {
   "cell_type": "code",
   "execution_count": 69,
   "metadata": {},
   "outputs": [
    {
     "name": "stdout",
     "output_type": "stream",
     "text": [
      "       Rank                                              Title CountryOfOrigin\n",
      "0     #1016                                     Fields of Gold              MY\n",
      "1     #1091  Villain Heal: The Villainess’s Plan to Heal a ...              TH\n",
      "2     #1770     My New Life, Won’t You Please Become Peaceful!              TH\n",
      "3     #2200            Baby Princess Through the Status Window              ID\n",
      "4     #2201            Baby Princess Through the Status Window              ID\n",
      "..      ...                                                ...             ...\n",
      "116  #26838                                    Umadevi Diamond              TH\n",
      "117  #26934                                         Moonflower             FIL\n",
      "118  #27267                        Tấm Cám – An Ill-fated Tale              VN\n",
      "119  #27443             Vengeance is Mine, All Others Pay Cash              ID\n",
      "120  #28692                              Dear Future Boyfriend             FIL\n",
      "\n",
      "[121 rows x 3 columns]\n"
     ]
    }
   ],
   "source": [
    "print(con.execute(\"SELECT Rank, Title, CountryOfOrigin from novel_table WHERE CountryOfOrigin <> 'KR' AND CountryOfOrigin <> 'CN' AND CountryOfOrigin <> 'JP'\").fetchdf())"
   ]
  },
  {
   "cell_type": "markdown",
   "metadata": {},
   "source": [
    "This means that there are 120 novels outside of the JP, KR, CN dataset that we should account for."
   ]
  },
  {
   "cell_type": "code",
   "execution_count": 70,
   "metadata": {},
   "outputs": [],
   "source": [
    "country_table = con.execute(\"CREATE TABLE country_novel_table AS SELECT * FROM 'webnovel_2025_analysis.csv' WHERE CountryOfOrigin == 'KR' OR CountryOfOrigin == 'CN' OR CountryOfOrigin == 'JP'\").fetchdf()"
   ]
  },
  {
   "cell_type": "markdown",
   "metadata": {},
   "source": [
    "Next Check for data with Under 5 Reviews. These points are likely to have inaccurate ratings as there is too little data to protect from extremes"
   ]
  },
  {
   "cell_type": "code",
   "execution_count": 71,
   "metadata": {},
   "outputs": [
    {
     "name": "stdout",
     "output_type": "stream",
     "text": [
      "                                                   Title  NumberOfReviews\n",
      "0           The Obsessive Second Male Lead Has Gone Wild                4\n",
      "1              I’m Worried that My Brother is Too Gentle                3\n",
      "2                                           Inma no Hado                4\n",
      "3      Elf no Kuni no Kyuutei Madoushi ni Naretanode,...                3\n",
      "4                                         Gang of Yuusha                2\n",
      "...                                                  ...              ...\n",
      "19970  Tracing the Origins of the System: From Gu Mas...                0\n",
      "19971                            The Perfect Show Window                0\n",
      "19972  Immortality: After Living for Ten Thousand Yea...                0\n",
      "19973  Gundam: Changing the World Even with a Mass-Pr...                1\n",
      "19974  Classmate wa Isekai de Yuusha ni Natta kedo, O...                0\n",
      "\n",
      "[19975 rows x 2 columns]\n"
     ]
    }
   ],
   "source": [
    "print(con.execute(\"SELECT Title, NumberOfReviews FROM country_novel_table WHERE NumberOfReviews < 5\").fetchdf())"
   ]
  },
  {
   "cell_type": "markdown",
   "metadata": {},
   "source": [
    "Since almost 20000 of the 30000 novels have under 5, we cannot just remove the data from what we analyze. Instead, we should create a column for starts times review to find total amount of stars. By finding a summation of this column and dividing by a summation of the number of reviews, we will be able to find an overall star rating per review rather than base it on individual rates."
   ]
  },
  {
   "cell_type": "code",
   "execution_count": 72,
   "metadata": {},
   "outputs": [
    {
     "data": {
      "text/plain": [
       "<duckdb.duckdb.DuckDBPyConnection at 0x1182250f0>"
      ]
     },
     "execution_count": 72,
     "metadata": {},
     "output_type": "execute_result"
    }
   ],
   "source": [
    "query = \"ALTER TABLE country_novel_table ADD COLUMN TotalStars DECIMAL(10, 2)\"\n",
    "con.execute(query)"
   ]
  },
  {
   "cell_type": "code",
   "execution_count": 73,
   "metadata": {},
   "outputs": [
    {
     "data": {
      "text/plain": [
       "<duckdb.duckdb.DuckDBPyConnection at 0x1182250f0>"
      ]
     },
     "execution_count": 73,
     "metadata": {},
     "output_type": "execute_result"
    }
   ],
   "source": [
    "query = \"UPDATE country_novel_table SET TotalStars = NumberOfReviews * StarRating\"\n",
    "con.execute(query)"
   ]
  },
  {
   "cell_type": "markdown",
   "metadata": {},
   "source": [
    "Testing the new column"
   ]
  },
  {
   "cell_type": "code",
   "execution_count": 74,
   "metadata": {},
   "outputs": [
    {
     "name": "stdout",
     "output_type": "stream",
     "text": [
      "                                                Title  TotalStars\n",
      "0                  Quickly Wear the Face of the Devil      3343.5\n",
      "1                         T*ash of the Count’s Family      2718.0\n",
      "2                            The Founder of Diabolism      2613.2\n",
      "3   The Rebirth of the Malicious Empress of Milita...      2603.6\n",
      "4                          Heaven Official’s Blessing      2359.4\n",
      "..                                                ...         ...\n",
      "95                   The Legendary Moonlight Sculptor       834.2\n",
      "96                               Please Confess to Me       832.6\n",
      "97                                     Coiling Dragon       832.5\n",
      "98  The Reborn Otaku’s Code of Practice for the Ap...       827.2\n",
      "99                                         Ze Tian Ji       824.0\n",
      "\n",
      "[100 rows x 2 columns]\n"
     ]
    }
   ],
   "source": [
    "print(con.execute(\"SELECT Title, TotalStars FROM country_novel_table ORDER BY TotalStars DESC LIMIT 100\").fetchdf())"
   ]
  },
  {
   "cell_type": "markdown",
   "metadata": {},
   "source": [
    "Confirm Number of Readers is never 0"
   ]
  },
  {
   "cell_type": "code",
   "execution_count": 75,
   "metadata": {},
   "outputs": [
    {
     "name": "stdout",
     "output_type": "stream",
     "text": [
      "Empty DataFrame\n",
      "Columns: [Title, NumberOfReaders]\n",
      "Index: []\n"
     ]
    }
   ],
   "source": [
    "print(con.execute(\"SELECT Title, NumberOfReaders FROM country_novel_table WHERE NumberOfReaders == 0\").fetchdf())"
   ]
  },
  {
   "cell_type": "markdown",
   "metadata": {},
   "source": [
    "A known issue with NovelUpdates is being inaccurate with the number of chapters a book actually has. This should be tested to see how big of a problem this is."
   ]
  },
  {
   "cell_type": "code",
   "execution_count": 76,
   "metadata": {},
   "outputs": [
    {
     "ename": "ConversionException",
     "evalue": "Conversion Error: Could not convert string '1101 Chapters' to INT32\n\nLINE 1: ... Title, NumberOfChapters FROM country_novel_table WHERE NumberOfChapters == 0\n                                                                   ^",
     "output_type": "error",
     "traceback": [
      "\u001b[31m---------------------------------------------------------------------------\u001b[39m",
      "\u001b[31mConversionException\u001b[39m                       Traceback (most recent call last)",
      "\u001b[36mCell\u001b[39m\u001b[36m \u001b[39m\u001b[32mIn[76]\u001b[39m\u001b[32m, line 1\u001b[39m\n\u001b[32m----> \u001b[39m\u001b[32m1\u001b[39m \u001b[38;5;28mprint\u001b[39m(\u001b[43mcon\u001b[49m\u001b[43m.\u001b[49m\u001b[43mexecute\u001b[49m\u001b[43m(\u001b[49m\u001b[33;43m\"\u001b[39;49m\u001b[33;43mSELECT Title, NumberOfChapters FROM country_novel_table WHERE NumberOfChapters == 0\u001b[39;49m\u001b[33;43m\"\u001b[39;49m\u001b[43m)\u001b[49m.fetchdf())\n",
      "\u001b[31mConversionException\u001b[39m: Conversion Error: Could not convert string '1101 Chapters' to INT32\n\nLINE 1: ... Title, NumberOfChapters FROM country_novel_table WHERE NumberOfChapters == 0\n                                                                   ^"
     ]
    }
   ],
   "source": [
    "print(con.execute(\"SELECT Title, NumberOfChapters FROM country_novel_table WHERE NumberOfChapters == 0\").fetchdf())"
   ]
  },
  {
   "cell_type": "markdown",
   "metadata": {},
   "source": [
    "Here I found that the chapters data included the string \"Chapters\" after the number making the data harder to parse."
   ]
  },
  {
   "cell_type": "code",
   "execution_count": null,
   "metadata": {},
   "outputs": [
    {
     "data": {
      "text/plain": [
       "<duckdb.duckdb.DuckDBPyConnection at 0x1045df0f0>"
      ]
     },
     "execution_count": 34,
     "metadata": {},
     "output_type": "execute_result"
    }
   ],
   "source": [
    "query = \"UPDATE country_novel_table SET NumberOfChapters = REPLACE(NumberOfChapters, ' Chapters', '')\"\n",
    "con.execute(query)"
   ]
  },
  {
   "cell_type": "code",
   "execution_count": null,
   "metadata": {},
   "outputs": [
    {
     "name": "stdout",
     "output_type": "stream",
     "text": [
      "                                                  Title NumberOfChapters\n",
      "0                           Everyone Else is a Returnee                0\n",
      "1                         Omniscient Reader’s Viewpoint                0\n",
      "2                              The Book Eating Magician                0\n",
      "3                  Infinite Competitive Dungeon Society                0\n",
      "4                            I Reincarnated For Nothing                0\n",
      "...                                                 ...              ...\n",
      "2257  Love Live! Nijigasaki Gakuen School Idol Club ...                0\n",
      "2258                                One Hundred Stories                0\n",
      "2259  Love Live! Nijigasaki Gakuen School Idol Club ...                0\n",
      "2260  Tracing the Origins of the System: From Gu Mas...                0\n",
      "2261                            The Perfect Show Window                0\n",
      "\n",
      "[2262 rows x 2 columns]\n"
     ]
    }
   ],
   "source": [
    "print(con.execute(\"SELECT Title, NumberOfChapters FROM country_novel_table WHERE NumberOfChapters == 0\").fetchdf())"
   ]
  },
  {
   "cell_type": "markdown",
   "metadata": {},
   "source": [
    "Now that the Chapter Number is updated, we can guarantee that there are at least 2262 titles with inaccurate chapters recorded on this site. "
   ]
  },
  {
   "cell_type": "markdown",
   "metadata": {},
   "source": [
    "Next we will check the format of the dates tab"
   ]
  },
  {
   "cell_type": "code",
   "execution_count": 77,
   "metadata": {},
   "outputs": [
    {
     "name": "stdout",
     "output_type": "stream",
     "text": [
      "                                                   Title  \\\n",
      "0                            T*ash of the Count’s Family   \n",
      "1                            Everyone Else is a Returnee   \n",
      "2                                        Dungeon Defense   \n",
      "3                          The Second Coming of Gluttony   \n",
      "4                          Omniscient Reader’s Viewpoint   \n",
      "...                                                  ...   \n",
      "28698  Tracing the Origins of the System: From Gu Mas...   \n",
      "28699                            The Perfect Show Window   \n",
      "28700  Immortality: After Living for Ten Thousand Yea...   \n",
      "28701  Gundam: Changing the World Even with a Mass-Pr...   \n",
      "28702  Classmate wa Isekai de Yuusha ni Natta kedo, O...   \n",
      "\n",
      "      LastChapterDateOfPublication  \n",
      "0                       02-25-2025  \n",
      "1                       02-01-2021  \n",
      "2                       11-26-2017  \n",
      "3                       07-09-2019  \n",
      "4                       07-03-2018  \n",
      "...                            ...  \n",
      "28698                          N/A  \n",
      "28699                   11-23-2024  \n",
      "28700                   02-28-2025  \n",
      "28701                   02-07-2025  \n",
      "28702                   02-28-2025  \n",
      "\n",
      "[28703 rows x 2 columns]\n"
     ]
    }
   ],
   "source": [
    "print(con.execute(\"SELECT Title, LastChapterDateOfPublication FROM country_novel_table\").fetchdf())"
   ]
  },
  {
   "cell_type": "markdown",
   "metadata": {},
   "source": [
    "This showed that there are also dates stored as N/A. We should replace these with NULL."
   ]
  },
  {
   "cell_type": "code",
   "execution_count": 79,
   "metadata": {},
   "outputs": [
    {
     "data": {
      "text/plain": [
       "<duckdb.duckdb.DuckDBPyConnection at 0x1182250f0>"
      ]
     },
     "execution_count": 79,
     "metadata": {},
     "output_type": "execute_result"
    }
   ],
   "source": [
    "query = \"UPDATE country_novel_table SET LastChapterDateOfPublication = NULL WHERE LastChapterDateOfPublication == 'N/A'\"\n",
    "con.execute(query)"
   ]
  },
  {
   "cell_type": "code",
   "execution_count": 81,
   "metadata": {},
   "outputs": [
    {
     "name": "stdout",
     "output_type": "stream",
     "text": [
      "                                                  Title  \\\n",
      "0                  Infinite Competitive Dungeon Society   \n",
      "1                                     Remarried Empress   \n",
      "2                                              Breakers   \n",
      "3                                         Taming Master   \n",
      "4                                    FFF-Class Trashero   \n",
      "...                                                 ...   \n",
      "1882                                One Hundred Stories   \n",
      "1883  Love Live! Nijigasaki Gakuen School Idol Club ...   \n",
      "1884                                One Hundred Stories   \n",
      "1885  Love Live! Nijigasaki Gakuen School Idol Club ...   \n",
      "1886  Tracing the Origins of the System: From Gu Mas...   \n",
      "\n",
      "     LastChapterDateOfPublication  \n",
      "0                            None  \n",
      "1                            None  \n",
      "2                            None  \n",
      "3                            None  \n",
      "4                            None  \n",
      "...                           ...  \n",
      "1882                         None  \n",
      "1883                         None  \n",
      "1884                         None  \n",
      "1885                         None  \n",
      "1886                         None  \n",
      "\n",
      "[1887 rows x 2 columns]\n"
     ]
    }
   ],
   "source": [
    "print(con.execute(\"SELECT Title, LastChapterDateOfPublication FROM country_novel_table WHERE LastChapterDateOfPublication IS NULL\").fetchdf())"
   ]
  },
  {
   "cell_type": "markdown",
   "metadata": {},
   "source": [
    "This Means there were 1886 novels where the last chapter of publication was not known. For future reference, this data was recollected from a webscraper on February 28th, 2025."
   ]
  },
  {
   "cell_type": "markdown",
   "metadata": {},
   "source": [
    "From here we should be able to investigate the initial question and all but the genre related questions. Since relating Genres to ratings is difficult due to the number of genres a book can have, I am leaving that for later work if it is deemed necessary for the exploration later on."
   ]
  }
 ],
 "metadata": {
  "kernelspec": {
   "display_name": "myenv",
   "language": "python",
   "name": "python3"
  },
  "language_info": {
   "codemirror_mode": {
    "name": "ipython",
    "version": 3
   },
   "file_extension": ".py",
   "mimetype": "text/x-python",
   "name": "python",
   "nbconvert_exporter": "python",
   "pygments_lexer": "ipython3",
   "version": "3.13.2"
  }
 },
 "nbformat": 4,
 "nbformat_minor": 2
}
