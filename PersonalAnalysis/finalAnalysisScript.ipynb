{
 "cells": [
  {
   "cell_type": "markdown",
   "metadata": {},
   "source": [
    "Set up Table for use"
   ]
  },
  {
   "cell_type": "code",
   "execution_count": 88,
   "metadata": {},
   "outputs": [],
   "source": [
    "import duckdb"
   ]
  },
  {
   "cell_type": "code",
   "execution_count": 89,
   "metadata": {},
   "outputs": [
    {
     "data": {
      "text/plain": [
       "<duckdb.duckdb.DuckDBPyConnection at 0x12264c670>"
      ]
     },
     "execution_count": 89,
     "metadata": {},
     "output_type": "execute_result"
    }
   ],
   "source": [
    "con = duckdb.connect()\n",
    "con.execute(\"DROP TABLE IF EXISTS novel_table\")\n",
    "con.execute(\"DROP TABLE IF EXISTS country_novel_table\")\n",
    "table = f\"\"\"\n",
    "    CREATE TABLE novel_table AS\n",
    "    SELECT * FROM 'webnovel_2025_analysis.csv'\n",
    "\"\"\"\n",
    "con.execute(table)\n",
    "\n",
    "country_table = con.execute(\"CREATE TABLE country_novel_table AS SELECT * FROM 'webnovel_2025_analysis.csv' WHERE CountryOfOrigin == 'KR' OR CountryOfOrigin == 'CN' OR CountryOfOrigin == 'JP'\").fetchdf()\n",
    "\n",
    "query = \"ALTER TABLE country_novel_table ADD COLUMN TotalStars DECIMAL(10, 2)\"\n",
    "con.execute(query)\n",
    "\n",
    "query = \"UPDATE country_novel_table SET TotalStars = NumberOfReviews * StarRating\"\n",
    "con.execute(query)\n",
    "\n",
    "query = \"UPDATE country_novel_table SET NumberOfChapters = REPLACE(NumberOfChapters, ' Chapters', '')\"\n",
    "con.execute(query)\n",
    "\n",
    "query = \"UPDATE country_novel_table SET LastChapterDateOfPublication = NULL WHERE LastChapterDateOfPublication == 'N/A'\"\n",
    "con.execute(query)"
   ]
  },
  {
   "cell_type": "markdown",
   "metadata": {},
   "source": [
    "Begin Final Analysis. The goals are to discover:\n",
    "- Which country has the highest number of total stars divided by the number of novels by that country\n",
    "- Find which country has the most readers\n",
    "- Look into Genres"
   ]
  },
  {
   "cell_type": "code",
   "execution_count": 62,
   "metadata": {},
   "outputs": [
    {
     "name": "stdout",
     "output_type": "stream",
     "text": [
      "  CountryOfOrigin  AvgStarsPerReviewer\n",
      "0              CN             4.059688\n",
      "1              KR             3.967862\n",
      "2              JP             3.825856\n"
     ]
    }
   ],
   "source": [
    "query = f\"\"\"SELECT CountryOfOrigin, \n",
    "            SUM(TotalStars) / SUM(NumberOfReviews) AS AvgStarsPerReviewer\n",
    "            FROM country_novel_table\n",
    "            GROUP BY CountryOfOrigin\n",
    "            ORDER BY AvgStarsPerReviewer DESC;\"\"\"\n",
    "print(con.execute(query).fetch_df())"
   ]
  },
  {
   "cell_type": "markdown",
   "metadata": {},
   "source": [
    "This means on a purely review based system chinese novels have the highest number of reviews"
   ]
  },
  {
   "cell_type": "code",
   "execution_count": 100,
   "metadata": {},
   "outputs": [
    {
     "name": "stdout",
     "output_type": "stream",
     "text": [
      "  CountryOfOrigin  NumberOfTitles\n",
      "0              CN           14418\n",
      "1              JP            7485\n",
      "2              KR            6800\n"
     ]
    }
   ],
   "source": [
    "query = f\"\"\"SELECT CountryOfOrigin, COUNT(Title) AS NumberOfTitles\n",
    "            FROM country_novel_table\n",
    "            GROUP BY CountryOfOrigin\n",
    "            ORDER BY NumberOfTitles DESC;\"\"\"\n",
    "print(con.execute(query).fetch_df())"
   ]
  },
  {
   "cell_type": "code",
   "execution_count": 66,
   "metadata": {},
   "outputs": [
    {
     "name": "stdout",
     "output_type": "stream",
     "text": [
      "  CountryOfOrigin  NumberOfReaders  NumberOfTitles  AverageReaderPerTitle\n",
      "0              CN       17696720.0           14418            1227.404633\n",
      "1              JP        9771135.0            7485            1305.428858\n",
      "2              KR        7163718.0            6800            1053.487941\n"
     ]
    }
   ],
   "source": [
    "query = f\"\"\"SELECT CountryOfOrigin, SUM(NumberOfReaders) AS NumberOfReaders, COUNT(Title) AS NumberOfTitles, SUM(NumberOfReaders) / COUNT(Title) AS AverageReaderPerTitle\n",
    "            FROM country_novel_table\n",
    "            GROUP BY CountryOfOrigin\n",
    "            ORDER BY NumberOfReaders DESC;\"\"\"\n",
    "print(con.execute(query).fetch_df())"
   ]
  },
  {
   "cell_type": "code",
   "execution_count": 83,
   "metadata": {},
   "outputs": [
    {
     "name": "stdout",
     "output_type": "stream",
     "text": [
      "  CountryOfOrigin  numZeroChapterEntries\n",
      "0              CN                   1001\n",
      "1              JP                    668\n",
      "2              KR                    593\n"
     ]
    }
   ],
   "source": [
    "query = f\"\"\"SELECT CountryOfOrigin, COUNT(NumberOfChapters) AS numZeroChapterEntries\n",
    "            FROM country_novel_table\n",
    "            WHERE NumberOfChapters = 0\n",
    "            GROUP BY CountryOfOrigin\n",
    "            ORDER BY numZeroChapterEntries DESC;\"\"\"\n",
    "print(con.execute(query).fetch_df())"
   ]
  },
  {
   "cell_type": "code",
   "execution_count": 56,
   "metadata": {},
   "outputs": [
    {
     "name": "stdout",
     "output_type": "stream",
     "text": [
      "  CountryOfOrigin  NumberOfTitles\n",
      "0              CN              41\n",
      "1              JP              36\n",
      "2              KR              22\n"
     ]
    }
   ],
   "source": [
    "query = f\"\"\"\n",
    "SELECT CountryOfOrigin, COUNT(*) AS NumberOfTitles\n",
    "FROM country_novel_table\n",
    "WHERE TRY_CAST(REPLACE(Rank, '#', '') AS INT) < 100\n",
    "GROUP BY CountryOfOrigin\n",
    "ORDER BY NumberOfTitles DESC\n",
    "\"\"\"\n",
    "print(con.execute(query).fetch_df())"
   ]
  },
  {
   "cell_type": "code",
   "execution_count": 35,
   "metadata": {},
   "outputs": [
    {
     "name": "stdout",
     "output_type": "stream",
     "text": [
      "            Genre  GenreCount  AvgRatingPerGenre  AvgStarsPerReview\n",
      "0          Sports         223           3.736771           4.272974\n",
      "1              Ai        2405           3.927069           4.264541\n",
      "2          Horror         949           3.741096           4.209186\n",
      "3            Yaoi        4363           3.858950           4.175625\n",
      "4         Mystery        2567           3.701519           4.163922\n",
      "5      Historical        1771           3.628458           4.161898\n",
      "6   Psychological        2356           3.728905           4.150410\n",
      "7         Xianxia        1120           3.629643           4.146964\n",
      "8           Wuxia         408           3.721078           4.139499\n",
      "9         Shounen        3919           3.774713           4.096014\n",
      "10      Completed        6876           3.755163           4.091777\n",
      "11   Supernatural        4140           3.691787           4.086253\n",
      "12         Comedy        9263           3.675386           4.073512\n",
      "13           Life        9950           3.634472           4.069846\n",
      "14          Mecha         378           3.719048           4.066729\n",
      "15           Yuri         811           3.828360           4.066150\n",
      "16         Sci-fi        1810           3.678122           4.061098\n",
      "17        Romance       18322           3.606244           4.060260\n",
      "18          Drama        9609           3.613550           4.051982\n",
      "19         Mature        4171           3.570942           4.041585\n",
      "20          Josei        1740           3.538161           4.025691\n",
      "21         School        4138           3.588231           4.023959\n",
      "22           Smut        3017           3.446105           4.003463\n",
      "23        Tragedy        2254           3.650488           4.000789\n",
      "24         Gender         888           3.704054           3.991713\n",
      "25         Bender         888           3.704054           3.991713\n",
      "26         Seinen        1031           3.633075           3.987167\n",
      "27         Shoujo        1718           3.629104           3.974516\n",
      "28          Adult        4496           3.424978           3.955816\n",
      "29        Fantasy       16199           3.582450           3.952756\n",
      "30      Adventure        7859           3.566968           3.941258\n",
      "31         Action        8938           3.552159           3.938107\n",
      "32        Martial        2126           3.485278           3.887207\n",
      "33           Arts        2126           3.485278           3.887207\n",
      "34       Xuanhuan        1390           3.472806           3.817267\n",
      "35          Harem        4890           3.425746           3.731842\n",
      "36          Ecchi        1405           3.384128           3.665105\n"
     ]
    }
   ],
   "source": [
    "query = f\"\"\"SELECT trimmed_genre AS Genre, \n",
    "                COUNT(*) AS GenreCount, \n",
    "                AVG(StarRating) AS AvgRatingPerGenre,\n",
    "                SUM(TotalStars) / SUM(NumberOfReviews) AS AvgStarsPerReview\n",
    "            FROM (\n",
    "                SELECT UNNEST(STRING_SPLIT(TRIM(BOTH '()' FROM Genres), ' ')) AS trimmed_genre, \n",
    "                    TotalStars, \n",
    "                    StarRating,\n",
    "                    NumberOfReviews\n",
    "                FROM country_novel_table\n",
    "            )\n",
    "            WHERE Genre != 'Slice' AND Genre != 'of'\n",
    "            GROUP BY trimmed_genre\n",
    "            ORDER BY GenreCount DESC;\n",
    "            \"\"\"\n",
    "print(con.execute(query).fetch_df())"
   ]
  },
  {
   "cell_type": "code",
   "execution_count": 39,
   "metadata": {},
   "outputs": [
    {
     "name": "stdout",
     "output_type": "stream",
     "text": [
      "   CountryOfOrigin    Genre  GenreCount  aveReview\n",
      "0               CN  Romance        9497   4.127164\n",
      "1               CN  Fantasy        6040   4.008719\n",
      "2               CN    Drama        4811   4.093541\n",
      "3               CN     Life        4591   4.135920\n",
      "4               CN   Comedy        4300   4.140948\n",
      "5               JP  Fantasy        4533   3.809106\n",
      "6               JP  Romance        4323   3.827013\n",
      "7               JP     Life        3869   3.885210\n",
      "8               JP   Comedy        3179   3.858635\n",
      "9               JP   Action        2684   3.773606\n",
      "10              KR  Fantasy        5626   3.964622\n",
      "11              KR  Romance        4502   3.942207\n",
      "12              KR    Drama        2664   4.001458\n",
      "13              KR   Action        2083   4.017693\n",
      "14              KR   Comedy        1784   4.056200\n"
     ]
    }
   ],
   "source": [
    "query = f\"\"\"WITH GenreCounts AS (\n",
    "                SELECT CountryOfOrigin, \n",
    "                    trimmed_genre AS Genre, \n",
    "                    COUNT(*) AS GenreCount,\n",
    "                    SUM(TotalStars) / SUM(NumberOfReviews) AS aveReview,\n",
    "                    ROW_NUMBER() OVER (PARTITION BY CountryOfOrigin ORDER BY COUNT(*) DESC) AS rank\n",
    "                FROM (\n",
    "                    SELECT CountryOfOrigin, TotalStars, NumberOfReviews,\n",
    "                        UNNEST(STRING_SPLIT(TRIM(BOTH '()' FROM Genres), ' ')) AS trimmed_genre\n",
    "                    FROM country_novel_table\n",
    "                )\n",
    "                GROUP BY CountryOfOrigin, trimmed_genre\n",
    "            )\n",
    "            SELECT CountryOfOrigin, Genre, GenreCount, aveReview\n",
    "            FROM GenreCounts\n",
    "            WHERE rank <= 5\n",
    "            ORDER BY CountryOfOrigin, rank;\n",
    "            \"\"\"\n",
    "\n",
    "print(con.execute(query).fetch_df())"
   ]
  },
  {
   "cell_type": "code",
   "execution_count": 26,
   "metadata": {},
   "outputs": [
    {
     "name": "stdout",
     "output_type": "stream",
     "text": [
      "   CountryOfOrigin    Genre  GenreCount  AvgStarsPerReview\n",
      "0               CN  Romance        9497           4.127164\n",
      "1               CN  Fantasy        6040           4.008719\n",
      "2               CN    Drama        4811           4.093541\n",
      "3               CN     Life        4591           4.135920\n",
      "4               CN   Comedy        4300           4.140948\n",
      "5               JP  Fantasy        4533           3.809106\n",
      "6               JP  Romance        4323           3.827013\n",
      "7               JP     Life        3869           3.885210\n",
      "8               JP   Comedy        3179           3.858635\n",
      "9               JP   Action        2684           3.773606\n",
      "10              KR  Fantasy        5626           3.964622\n",
      "11              KR  Romance        4502           3.942207\n",
      "12              KR    Drama        2664           4.001458\n",
      "13              KR   Action        2083           4.017693\n",
      "14              KR   Comedy        1784           4.056200\n"
     ]
    }
   ],
   "source": [
    "query = f\"\"\"WITH GenreStats AS (\n",
    "                SELECT CountryOfOrigin, \n",
    "                    trimmed_genre AS Genre, \n",
    "                    COUNT(*) AS GenreCount,\n",
    "                    SUM(TotalStars) / NULLIF(SUM(NumberOfReviews), 0) AS AvgStarsPerReview,\n",
    "                    ROW_NUMBER() OVER (PARTITION BY CountryOfOrigin ORDER BY COUNT(*) DESC) AS rank\n",
    "                FROM (\n",
    "                    SELECT CountryOfOrigin, \n",
    "                        UNNEST(STRING_SPLIT(TRIM(BOTH '()' FROM Genres), ' ')) AS trimmed_genre,\n",
    "                        TotalStars,\n",
    "                        NumberOfReviews\n",
    "                    FROM country_novel_table\n",
    "                )\n",
    "                GROUP BY CountryOfOrigin, trimmed_genre\n",
    "            )\n",
    "            SELECT CountryOfOrigin, Genre, GenreCount, AvgStarsPerReview\n",
    "            FROM GenreStats\n",
    "            WHERE rank <= 5\n",
    "            ORDER BY CountryOfOrigin, rank;\n",
    "            \"\"\"\n",
    "print(con.execute(query).fetch_df())"
   ]
  },
  {
   "cell_type": "code",
   "execution_count": 99,
   "metadata": {},
   "outputs": [
    {
     "name": "stdout",
     "output_type": "stream",
     "text": [
      "  CountryOfOrigin  averageReleaseSchedule\n",
      "0              KR               18.430493\n",
      "1              CN               22.380114\n",
      "2              JP               28.194972\n"
     ]
    }
   ],
   "source": [
    "query = f\"\"\"SELECT CountryOfOrigin, AVG(ReleaseFrequency) AS averageReleaseSchedule\n",
    "            FROM country_novel_table\n",
    "            WHERE ReleaseFrequency < 90\n",
    "            GROUP BY CountryOfOrigin\n",
    "            ORDER BY averageReleaseSchedule ASC;\"\"\"\n",
    "print(con.execute(query).fetch_df())"
   ]
  }
 ],
 "metadata": {
  "kernelspec": {
   "display_name": "myenv",
   "language": "python",
   "name": "python3"
  },
  "language_info": {
   "codemirror_mode": {
    "name": "ipython",
    "version": 3
   },
   "file_extension": ".py",
   "mimetype": "text/x-python",
   "name": "python",
   "nbconvert_exporter": "python",
   "pygments_lexer": "ipython3",
   "version": "3.13.2"
  }
 },
 "nbformat": 4,
 "nbformat_minor": 2
}
